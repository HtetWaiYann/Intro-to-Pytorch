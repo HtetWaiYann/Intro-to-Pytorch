{
 "cells": [
  {
   "cell_type": "markdown",
   "metadata": {},
   "source": [
    "# Saving and Loading Models\n",
    "\n",
    "In this notebook, I'll show you how to save and load models with PyTorch. This is important because you'll often want to load previously trained models to use in making predictions or to continue training on new data."
   ]
  },
  {
   "cell_type": "code",
   "execution_count": 1,
   "metadata": {},
   "outputs": [],
   "source": [
    "%matplotlib inline\n",
    "%config InlineBackend.figure_format = 'retina'\n",
    "\n",
    "import matplotlib.pyplot as plt\n",
    "\n",
    "import torch\n",
    "from torch import nn\n",
    "from torch import optim\n",
    "import torch.nn.functional as F\n",
    "from torchvision import datasets, transforms\n",
    "\n",
    "import helper\n",
    "import fc_model"
   ]
  },
  {
   "cell_type": "code",
   "execution_count": 2,
   "metadata": {},
   "outputs": [],
   "source": [
    "# Define a transform to normalize the data\n",
    "transform = transforms.Compose([transforms.ToTensor(),\n",
    "                                transforms.Normalize((0.5,), (0.5,))])\n",
    "# Download and load the training data\n",
    "trainset = datasets.FashionMNIST('~/.pytorch/F_MNIST_data/', download=True, train=True, transform=transform)\n",
    "trainloader = torch.utils.data.DataLoader(trainset, batch_size=64, shuffle=True)\n",
    "\n",
    "# Download and load the test data\n",
    "testset = datasets.FashionMNIST('~/.pytorch/F_MNIST_data/', download=True, train=False, transform=transform)\n",
    "testloader = torch.utils.data.DataLoader(testset, batch_size=64, shuffle=True)"
   ]
  },
  {
   "cell_type": "markdown",
   "metadata": {},
   "source": [
    "Here we can see one of the images."
   ]
  },
  {
   "cell_type": "code",
   "execution_count": 3,
   "metadata": {},
   "outputs": [
    {
     "data": {
      "image/png": "[encoded data removed]",
      "text/plain": [
       "<Figure size 432x288 with 1 Axes>"
      ]
     },
     "metadata": {
      "image/png": {
       "height": 231,
       "width": 231
      },
      "needs_background": "light"
     },
     "output_type": "display_data"
    }
   ],
   "source": [
    "image, label = next(iter(trainloader))\n",
    "helper.imshow(image[0,:]);"
   ]
  },
  {
   "cell_type": "markdown",
   "metadata": {},
   "source": [
    "# Train a network\n",
    "\n",
    "To make things more concise here, I moved the model architecture and training code from the last part to a file called `fc_model`. Importing this, we can easily create a fully-connected network with `fc_model.Network`, and train the network using `fc_model.train`. I'll use this model (once it's trained) to demonstrate how we can save and load models."
   ]
  },
  {
   "cell_type": "code",
   "execution_count": 4,
   "metadata": {},
   "outputs": [],
   "source": [
    "# Create the network, define the criterion and optimizer\n",
    "\n",
    "model = fc_model.Network(784, 10, [512, 256, 128])\n",
    "criterion = nn.NLLLoss()\n",
    "optimizer = optim.Adam(model.parameters(), lr=0.001)"
   ]
  },
  {
   "cell_type": "code",
   "execution_count": 5,
   "metadata": {},
   "outputs": [
    {
     "name": "stdout",
     "output_type": "stream",
     "text": [
      "Epoch: 1/2..  Training Loss: 1.677..  Test Loss: 0.984..  Test Accuracy: 0.589\n",
      "Epoch: 1/2..  Training Loss: 1.054..  Test Loss: 0.754..  Test Accuracy: 0.693\n",
      "Epoch: 1/2..  Training Loss: 0.866..  Test Loss: 0.689..  Test Accuracy: 0.746\n",
      "Epoch: 1/2..  Training Loss: 0.820..  Test Loss: 0.652..  Test Accuracy: 0.756\n",
      "Epoch: 1/2..  Training Loss: 0.727..  Test Loss: 0.612..  Test Accuracy: 0.764\n",
      "Epoch: 1/2..  Training Loss: 0.710..  Test Loss: 0.633..  Test Accuracy: 0.747\n",
      "Epoch: 1/2..  Training Loss: 0.736..  Test Loss: 0.591..  Test Accuracy: 0.776\n",
      "Epoch: 1/2..  Training Loss: 0.695..  Test Loss: 0.572..  Test Accuracy: 0.782\n",
      "Epoch: 1/2..  Training Loss: 0.658..  Test Loss: 0.626..  Test Accuracy: 0.759\n",
      "Epoch: 1/2..  Training Loss: 0.699..  Test Loss: 0.570..  Test Accuracy: 0.791\n",
      "Epoch: 1/2..  Training Loss: 0.633..  Test Loss: 0.545..  Test Accuracy: 0.798\n",
      "Epoch: 1/2..  Training Loss: 0.620..  Test Loss: 0.511..  Test Accuracy: 0.808\n",
      "Epoch: 1/2..  Training Loss: 0.634..  Test Loss: 0.501..  Test Accuracy: 0.812\n",
      "Epoch: 1/2..  Training Loss: 0.581..  Test Loss: 0.507..  Test Accuracy: 0.809\n",
      "Epoch: 1/2..  Training Loss: 0.602..  Test Loss: 0.540..  Test Accuracy: 0.795\n",
      "Epoch: 1/2..  Training Loss: 0.566..  Test Loss: 0.517..  Test Accuracy: 0.812\n",
      "Epoch: 1/2..  Training Loss: 0.602..  Test Loss: 0.531..  Test Accuracy: 0.802\n",
      "Epoch: 1/2..  Training Loss: 0.633..  Test Loss: 0.504..  Test Accuracy: 0.822\n",
      "Epoch: 1/2..  Training Loss: 0.584..  Test Loss: 0.523..  Test Accuracy: 0.809\n",
      "Epoch: 1/2..  Training Loss: 0.571..  Test Loss: 0.512..  Test Accuracy: 0.807\n",
      "Epoch: 1/2..  Training Loss: 0.558..  Test Loss: 0.487..  Test Accuracy: 0.820\n",
      "Epoch: 1/2..  Training Loss: 0.551..  Test Loss: 0.479..  Test Accuracy: 0.822\n",
      "Epoch: 1/2..  Training Loss: 0.550..  Test Loss: 0.474..  Test Accuracy: 0.829\n",
      "Epoch: 2/2..  Training Loss: 0.512..  Test Loss: 0.497..  Test Accuracy: 0.812\n",
      "Epoch: 2/2..  Training Loss: 0.507..  Test Loss: 0.476..  Test Accuracy: 0.823\n",
      "Epoch: 2/2..  Training Loss: 0.578..  Test Loss: 0.465..  Test Accuracy: 0.832\n",
      "Epoch: 2/2..  Training Loss: 0.591..  Test Loss: 0.474..  Test Accuracy: 0.834\n",
      "Epoch: 2/2..  Training Loss: 0.555..  Test Loss: 0.472..  Test Accuracy: 0.829\n",
      "Epoch: 2/2..  Training Loss: 0.550..  Test Loss: 0.482..  Test Accuracy: 0.824\n",
      "Epoch: 2/2..  Training Loss: 0.520..  Test Loss: 0.461..  Test Accuracy: 0.832\n",
      "Epoch: 2/2..  Training Loss: 0.530..  Test Loss: 0.457..  Test Accuracy: 0.828\n",
      "Epoch: 2/2..  Training Loss: 0.538..  Test Loss: 0.470..  Test Accuracy: 0.825\n",
      "Epoch: 2/2..  Training Loss: 0.504..  Test Loss: 0.465..  Test Accuracy: 0.827\n",
      "Epoch: 2/2..  Training Loss: 0.563..  Test Loss: 0.471..  Test Accuracy: 0.826\n",
      "Epoch: 2/2..  Training Loss: 0.497..  Test Loss: 0.452..  Test Accuracy: 0.834\n",
      "Epoch: 2/2..  Training Loss: 0.541..  Test Loss: 0.470..  Test Accuracy: 0.831\n",
      "Epoch: 2/2..  Training Loss: 0.522..  Test Loss: 0.468..  Test Accuracy: 0.822\n",
      "Epoch: 2/2..  Training Loss: 0.549..  Test Loss: 0.444..  Test Accuracy: 0.836\n",
      "Epoch: 2/2..  Training Loss: 0.538..  Test Loss: 0.447..  Test Accuracy: 0.830\n",
      "Epoch: 2/2..  Training Loss: 0.539..  Test Loss: 0.442..  Test Accuracy: 0.837\n",
      "Epoch: 2/2..  Training Loss: 0.519..  Test Loss: 0.446..  Test Accuracy: 0.833\n",
      "Epoch: 2/2..  Training Loss: 0.575..  Test Loss: 0.461..  Test Accuracy: 0.829\n",
      "Epoch: 2/2..  Training Loss: 0.495..  Test Loss: 0.462..  Test Accuracy: 0.829\n",
      "Epoch: 2/2..  Training Loss: 0.533..  Test Loss: 0.443..  Test Accuracy: 0.832\n",
      "Epoch: 2/2..  Training Loss: 0.503..  Test Loss: 0.467..  Test Accuracy: 0.832\n",
      "Epoch: 2/2..  Training Loss: 0.498..  Test Loss: 0.445..  Test Accuracy: 0.837\n"
     ]
    }
   ],
   "source": [
    "fc_model.train(model, trainloader, testloader, criterion, optimizer, epochs=2)"
   ]
  },
  {
   "cell_type": "markdown",
   "metadata": {},
   "source": [
    "## Saving and loading networks\n",
    "\n",
    "As you can imagine, it's impractical to train a network every time you need to use it. Instead, we can save trained networks then load them later to train more or use them for predictions.\n",
    "\n",
    "The parameters for PyTorch networks are stored in a model's `state_dict`. We can see the state dict contains the weight and bias matrices for each of our layers."
   ]
  },
  {
   "cell_type": "code",
   "execution_count": 6,
   "metadata": {},
   "outputs": [
    {
     "name": "stdout",
     "output_type": "stream",
     "text": [
      "Our model: \n",
      "\n",
      " Network(\n",
      "  (hidden_layers): ModuleList(\n",
      "    (0): Linear(in_features=784, out_features=512, bias=True)\n",
      "    (1): Linear(in_features=512, out_features=256, bias=True)\n",
      "    (2): Linear(in_features=256, out_features=128, bias=True)\n",
      "  )\n",
      "  (output): Linear(in_features=128, out_features=10, bias=True)\n",
      "  (dropout): Dropout(p=0.5, inplace=False)\n",
      ") \n",
      "\n",
      "The state dict keys: \n",
      "\n",
      " odict_keys(['hidden_layers.0.weight', 'hidden_layers.0.bias', 'hidden_layers.1.weight', 'hidden_layers.1.bias', 'hidden_layers.2.weight', 'hidden_layers.2.bias', 'output.weight', 'output.bias'])\n"
     ]
    }
   ],
   "source": [
    "print(\"Our model: \\n\\n\", model, '\\n')\n",
    "print(\"The state dict keys: \\n\\n\", model.state_dict().keys())"
   ]
  },
  {
   "cell_type": "markdown",
   "metadata": {},
   "source": [
    "The simplest thing to do is simply save the state dict with `torch.save`. For example, we can save it to a file `'checkpoint.pth'`."
   ]
  },
  {
   "cell_type": "code",
   "execution_count": 7,
   "metadata": {},
   "outputs": [],
   "source": [
    "torch.save(model.state_dict(), 'checkpoint.pth')"
   ]
  },
  {
   "cell_type": "markdown",
   "metadata": {},
   "source": [
    "Then we can load the state dict with `torch.load`."
   ]
  },
  {
   "cell_type": "code",
   "execution_count": 8,
   "metadata": {},
   "outputs": [
    {
     "name": "stdout",
     "output_type": "stream",
     "text": [
      "odict_keys(['hidden_layers.0.weight', 'hidden_layers.0.bias', 'hidden_layers.1.weight', 'hidden_layers.1.bias', 'hidden_layers.2.weight', 'hidden_layers.2.bias', 'output.weight', 'output.bias'])\n"
     ]
    }
   ],
   "source": [
    "state_dict = torch.load('checkpoint.pth')\n",
    "print(state_dict.keys())"
   ]
  },
  {
   "cell_type": "markdown",
   "metadata": {},
   "source": [
    "And to load the state dict in to the network, you do `model.load_state_dict(state_dict)`."
   ]
  },
  {
   "cell_type": "code",
   "execution_count": 9,
   "metadata": {},
   "outputs": [
    {
     "data": {
      "text/plain": [
       "<All keys matched successfully>"
      ]
     },
     "execution_count": 9,
     "metadata": {},
     "output_type": "execute_result"
    }
   ],
   "source": [
    "model.load_state_dict(state_dict)"
   ]
  },
  {
   "cell_type": "markdown",
   "metadata": {},
   "source": [
    "Seems pretty straightforward, but as usual it's a bit more complicated. Loading the state dict works only if the model architecture is exactly the same as the checkpoint architecture. If I create a model with a different architecture, this fails."
   ]
  },
  {
   "cell_type": "code",
   "execution_count": 10,
   "metadata": {},
   "outputs": [
    {
     "ename": "RuntimeError",
     "evalue": "Error(s) in loading state_dict for Network:\n\tsize mismatch for hidden_layers.0.weight: copying a param with shape torch.Size([512, 784]) from checkpoint, the shape in current model is torch.Size([400, 784]).\n\tsize mismatch for hidden_layers.0.bias: copying a param with shape torch.Size([512]) from checkpoint, the shape in current model is torch.Size([400]).\n\tsize mismatch for hidden_layers.1.weight: copying a param with shape torch.Size([256, 512]) from checkpoint, the shape in current model is torch.Size([200, 400]).\n\tsize mismatch for hidden_layers.1.bias: copying a param with shape torch.Size([256]) from checkpoint, the shape in current model is torch.Size([200]).\n\tsize mismatch for hidden_layers.2.weight: copying a param with shape torch.Size([128, 256]) from checkpoint, the shape in current model is torch.Size([100, 200]).\n\tsize mismatch for hidden_layers.2.bias: copying a param with shape torch.Size([128]) from checkpoint, the shape in current model is torch.Size([100]).\n\tsize mismatch for output.weight: copying a param with shape torch.Size([10, 128]) from checkpoint, the shape in current model is torch.Size([10, 100]).",
     "output_type": "error",
     "traceback": [
      "\u001b[0;31m---------------------------------------------------------------------------\u001b[0m",
      "\u001b[0;31mRuntimeError\u001b[0m                              Traceback (most recent call last)",
      "\u001b[1;32m/Users/htetwaiyan/Documents/Udacity Jupyter Notebooks/deep-learning-v2-pytorch/intro-to-pytorch/Part 6 - Saving and Loading Models.ipynb Cell 18\u001b[0m in \u001b[0;36m<cell line: 4>\u001b[0;34m()\u001b[0m\n\u001b[1;32m      <a href='vscode-notebook-cell:/Users/htetwaiyan/Documents/Udacity%20Jupyter%20Notebooks/deep-learning-v2-pytorch/intro-to-pytorch/Part%206%20-%20Saving%20and%20Loading%20Models.ipynb#X23sZmlsZQ%3D%3D?line=1'>2</a>\u001b[0m model \u001b[39m=\u001b[39m fc_model\u001b[39m.\u001b[39mNetwork(\u001b[39m784\u001b[39m, \u001b[39m10\u001b[39m, [\u001b[39m400\u001b[39m, \u001b[39m200\u001b[39m, \u001b[39m100\u001b[39m])\n\u001b[1;32m      <a href='vscode-notebook-cell:/Users/htetwaiyan/Documents/Udacity%20Jupyter%20Notebooks/deep-learning-v2-pytorch/intro-to-pytorch/Part%206%20-%20Saving%20and%20Loading%20Models.ipynb#X23sZmlsZQ%3D%3D?line=2'>3</a>\u001b[0m \u001b[39m# This will throw an error because the tensor sizes are wrong!\u001b[39;00m\n\u001b[0;32m----> <a href='vscode-notebook-cell:/Users/htetwaiyan/Documents/Udacity%20Jupyter%20Notebooks/deep-learning-v2-pytorch/intro-to-pytorch/Part%206%20-%20Saving%20and%20Loading%20Models.ipynb#X23sZmlsZQ%3D%3D?line=3'>4</a>\u001b[0m model\u001b[39m.\u001b[39;49mload_state_dict(state_dict)\n",
      "File \u001b[0;32m~/opt/anaconda3/lib/python3.9/site-packages/torch/nn/modules/module.py:1667\u001b[0m, in \u001b[0;36mModule.load_state_dict\u001b[0;34m(self, state_dict, strict)\u001b[0m\n\u001b[1;32m   1662\u001b[0m         error_msgs\u001b[39m.\u001b[39minsert(\n\u001b[1;32m   1663\u001b[0m             \u001b[39m0\u001b[39m, \u001b[39m'\u001b[39m\u001b[39mMissing key(s) in state_dict: \u001b[39m\u001b[39m{}\u001b[39;00m\u001b[39m. \u001b[39m\u001b[39m'\u001b[39m\u001b[39m.\u001b[39mformat(\n\u001b[1;32m   1664\u001b[0m                 \u001b[39m'\u001b[39m\u001b[39m, \u001b[39m\u001b[39m'\u001b[39m\u001b[39m.\u001b[39mjoin(\u001b[39m'\u001b[39m\u001b[39m\"\u001b[39m\u001b[39m{}\u001b[39;00m\u001b[39m\"\u001b[39m\u001b[39m'\u001b[39m\u001b[39m.\u001b[39mformat(k) \u001b[39mfor\u001b[39;00m k \u001b[39min\u001b[39;00m missing_keys)))\n\u001b[1;32m   1666\u001b[0m \u001b[39mif\u001b[39;00m \u001b[39mlen\u001b[39m(error_msgs) \u001b[39m>\u001b[39m \u001b[39m0\u001b[39m:\n\u001b[0;32m-> 1667\u001b[0m     \u001b[39mraise\u001b[39;00m \u001b[39mRuntimeError\u001b[39;00m(\u001b[39m'\u001b[39m\u001b[39mError(s) in loading state_dict for \u001b[39m\u001b[39m{}\u001b[39;00m\u001b[39m:\u001b[39m\u001b[39m\\n\u001b[39;00m\u001b[39m\\t\u001b[39;00m\u001b[39m{}\u001b[39;00m\u001b[39m'\u001b[39m\u001b[39m.\u001b[39mformat(\n\u001b[1;32m   1668\u001b[0m                        \u001b[39mself\u001b[39m\u001b[39m.\u001b[39m\u001b[39m__class__\u001b[39m\u001b[39m.\u001b[39m\u001b[39m__name__\u001b[39m, \u001b[39m\"\u001b[39m\u001b[39m\\n\u001b[39;00m\u001b[39m\\t\u001b[39;00m\u001b[39m\"\u001b[39m\u001b[39m.\u001b[39mjoin(error_msgs)))\n\u001b[1;32m   1669\u001b[0m \u001b[39mreturn\u001b[39;00m _IncompatibleKeys(missing_keys, unexpected_keys)\n",
      "\u001b[0;31mRuntimeError\u001b[0m: Error(s) in loading state_dict for Network:\n\tsize mismatch for hidden_layers.0.weight: copying a param with shape torch.Size([512, 784]) from checkpoint, the shape in current model is torch.Size([400, 784]).\n\tsize mismatch for hidden_layers.0.bias: copying a param with shape torch.Size([512]) from checkpoint, the shape in current model is torch.Size([400]).\n\tsize mismatch for hidden_layers.1.weight: copying a param with shape torch.Size([256, 512]) from checkpoint, the shape in current model is torch.Size([200, 400]).\n\tsize mismatch for hidden_layers.1.bias: copying a param with shape torch.Size([256]) from checkpoint, the shape in current model is torch.Size([200]).\n\tsize mismatch for hidden_layers.2.weight: copying a param with shape torch.Size([128, 256]) from checkpoint, the shape in current model is torch.Size([100, 200]).\n\tsize mismatch for hidden_layers.2.bias: copying a param with shape torch.Size([128]) from checkpoint, the shape in current model is torch.Size([100]).\n\tsize mismatch for output.weight: copying a param with shape torch.Size([10, 128]) from checkpoint, the shape in current model is torch.Size([10, 100])."
     ]
    }
   ],
   "source": [
    "# Try this\n",
    "model = fc_model.Network(784, 10, [400, 200, 100])\n",
    "# This will throw an error because the tensor sizes are wrong!\n",
    "model.load_state_dict(state_dict)"
   ]
  },
  {
   "cell_type": "markdown",
   "metadata": {},
   "source": [
    "This means we need to rebuild the model exactly as it was when trained. Information about the model architecture needs to be saved in the checkpoint, along with the state dict. To do this, you build a dictionary with all the information you need to compeletely rebuild the model."
   ]
  },
  {
   "cell_type": "code",
   "execution_count": 11,
   "metadata": {},
   "outputs": [],
   "source": [
    "checkpoint = {'input_size': 784,\n",
    "              'output_size': 10,\n",
    "              'hidden_layers': [each.out_features for each in model.hidden_layers],\n",
    "              'state_dict': model.state_dict()}\n",
    "\n",
    "torch.save(checkpoint, 'checkpoint.pth')"
   ]
  },
  {
   "cell_type": "markdown",
   "metadata": {},
   "source": [
    "Now the checkpoint has all the necessary information to rebuild the trained model. You can easily make that a function if you want. Similarly, we can write a function to load checkpoints. "
   ]
  },
  {
   "cell_type": "code",
   "execution_count": 12,
   "metadata": {},
   "outputs": [],
   "source": [
    "def load_checkpoint(filepath):\n",
    "    checkpoint = torch.load(filepath)\n",
    "    model = fc_model.Network(checkpoint['input_size'],\n",
    "                             checkpoint['output_size'],\n",
    "                             checkpoint['hidden_layers'])\n",
    "    model.load_state_dict(checkpoint['state_dict'])\n",
    "    \n",
    "    return model"
   ]
  },
  {
   "cell_type": "code",
   "execution_count": 1,
   "metadata": {},
   "outputs": [
    {
     "ename": "NameError",
     "evalue": "name 'load_checkpoint' is not defined",
     "output_type": "error",
     "traceback": [
      "\u001b[0;31m---------------------------------------------------------------------------\u001b[0m",
      "\u001b[0;31mNameError\u001b[0m                                 Traceback (most recent call last)",
      "\u001b[1;32m/Users/htetwaiyan/Documents/Udacity Jupyter Notebooks/deep-learning-v2-pytorch/intro-to-pytorch/Part 6 - Saving and Loading Models.ipynb Cell 23\u001b[0m in \u001b[0;36m<cell line: 1>\u001b[0;34m()\u001b[0m\n\u001b[0;32m----> <a href='vscode-notebook-cell:/Users/htetwaiyan/Documents/Udacity%20Jupyter%20Notebooks/deep-learning-v2-pytorch/intro-to-pytorch/Part%206%20-%20Saving%20and%20Loading%20Models.ipynb#X31sZmlsZQ%3D%3D?line=0'>1</a>\u001b[0m model \u001b[39m=\u001b[39m load_checkpoint(\u001b[39m'\u001b[39m\u001b[39mcheckpoint.pth\u001b[39m\u001b[39m'\u001b[39m)\n\u001b[1;32m      <a href='vscode-notebook-cell:/Users/htetwaiyan/Documents/Udacity%20Jupyter%20Notebooks/deep-learning-v2-pytorch/intro-to-pytorch/Part%206%20-%20Saving%20and%20Loading%20Models.ipynb#X31sZmlsZQ%3D%3D?line=1'>2</a>\u001b[0m \u001b[39mprint\u001b[39m(model)\n\u001b[1;32m      <a href='vscode-notebook-cell:/Users/htetwaiyan/Documents/Udacity%20Jupyter%20Notebooks/deep-learning-v2-pytorch/intro-to-pytorch/Part%206%20-%20Saving%20and%20Loading%20Models.ipynb#X31sZmlsZQ%3D%3D?line=3'>4</a>\u001b[0m model\u001b[39m.\u001b[39mparameters()\n",
      "\u001b[0;31mNameError\u001b[0m: name 'load_checkpoint' is not defined"
     ]
    }
   ],
   "source": [
    "model = load_checkpoint('checkpoint.pth')\n",
    "print(model)\n"
   ]
  },
  {
   "cell_type": "code",
   "execution_count": null,
   "metadata": {},
   "outputs": [],
   "source": []
  }
 ],
 "metadata": {
  "kernelspec": {
   "display_name": "Python 3.9.12 ('base')",
   "language": "python",
   "name": "python3"
  },
  "language_info": {
   "codemirror_mode": {
    "name": "ipython",
    "version": 3
   },
   "file_extension": ".py",
   "mimetype": "text/x-python",
   "name": "python",
   "nbconvert_exporter": "python",
   "pygments_lexer": "ipython3",
   "version": "3.9.12"
  },
  "vscode": {
   "interpreter": {
    "hash": "a564a5affe2b2749e40f956737a347ce396babb3f3d788f8f5f9c148ddd9671f"
   }
  }
 },
 "nbformat": 4,
 "nbformat_minor": 2
}
