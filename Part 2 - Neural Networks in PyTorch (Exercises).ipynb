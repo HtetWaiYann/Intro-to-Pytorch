{
 "cells": [
  {
   "cell_type": "markdown",
   "metadata": {},
   "source": [
    "# Neural networks with PyTorch\n",
    "\n",
    "Deep learning networks tend to be massive with dozens or hundreds of layers, that's where the term \"deep\" comes from. You can build one of these deep networks using only weight matrices as we did in the previous notebook, but in general it's very cumbersome and difficult to implement. PyTorch has a nice module `nn` that provides a nice way to efficiently build large neural networks."
   ]
  },
  {
   "cell_type": "code",
   "execution_count": 1,
   "metadata": {
    "collapsed": true
   },
   "outputs": [],
   "source": [
    "# Import necessary packages\n",
    "\n",
    "%matplotlib inline\n",
    "%config InlineBackend.figure_format = 'retina'\n",
    "\n",
    "import numpy as np\n",
    "import torch\n",
    "\n",
    "import helper\n",
    "\n",
    "import matplotlib.pyplot as plt"
   ]
  },
  {
   "cell_type": "markdown",
   "metadata": {},
   "source": [
    "\n",
    "Now we're going to build a larger network that can solve a (formerly) difficult problem, identifying text in an image. Here we'll use the MNIST dataset which consists of greyscale handwritten digits. Each image is 28x28 pixels, you can see a sample below\n",
    "\n",
    "<img src='assets/mnist.png'>\n",
    "\n",
    "Our goal is to build a neural network that can take one of these images and predict the digit in the image.\n",
    "\n",
    "First up, we need to get our dataset. This is provided through the `torchvision` package. The code below will download the MNIST dataset, then create training and test datasets for us. Don't worry too much about the details here, you'll learn more about this later."
   ]
  },
  {
   "cell_type": "code",
   "execution_count": 2,
   "metadata": {},
   "outputs": [],
   "source": [
    "# The MNIST datasets are hosted on yann.lecun.com that has moved under CloudFlare protection\n",
    "# Run this script to enable the datasets download\n",
    "# Reference: https://github.com/pytorch/vision/issues/1938\n",
    "\n",
    "from six.moves import urllib\n",
    "opener = urllib.request.build_opener()\n",
    "opener.addheaders = [('User-agent', 'Mozilla/5.0')]\n",
    "urllib.request.install_opener(opener)"
   ]
  },
  {
   "cell_type": "code",
   "execution_count": 3,
   "metadata": {
    "collapsed": true
   },
   "outputs": [
    {
     "name": "stdout",
     "output_type": "stream",
     "text": [
      "Downloading http://yann.lecun.com/exdb/mnist/train-images-idx3-ubyte.gz\n",
      "Downloading http://yann.lecun.com/exdb/mnist/train-images-idx3-ubyte.gz to /Users/htetwaiyan/.pytorch/MNIST_data/MNIST/raw/train-images-idx3-ubyte.gz\n"
     ]
    },
    {
     "data": {
      "application/vnd.jupyter.widget-view+json": {
       "model_id": "706ba8c04f2e4356ab793aa84702d86c",
       "version_major": 2,
       "version_minor": 0
      },
      "text/plain": [
       "  0%|          | 0/9912422 [00:00<?, ?it/s]"
      ]
     },
     "metadata": {},
     "output_type": "display_data"
    },
    {
     "name": "stdout",
     "output_type": "stream",
     "text": [
      "Extracting /Users/htetwaiyan/.pytorch/MNIST_data/MNIST/raw/train-images-idx3-ubyte.gz to /Users/htetwaiyan/.pytorch/MNIST_data/MNIST/raw\n",
      "\n",
      "Downloading http://yann.lecun.com/exdb/mnist/train-labels-idx1-ubyte.gz\n",
      "Downloading http://yann.lecun.com/exdb/mnist/train-labels-idx1-ubyte.gz to /Users/htetwaiyan/.pytorch/MNIST_data/MNIST/raw/train-labels-idx1-ubyte.gz\n"
     ]
    },
    {
     "data": {
      "application/vnd.jupyter.widget-view+json": {
       "model_id": "f8863a37059d45c7ba10dd18f8b75a42",
       "version_major": 2,
       "version_minor": 0
      },
      "text/plain": [
       "  0%|          | 0/28881 [00:00<?, ?it/s]"
      ]
     },
     "metadata": {},
     "output_type": "display_data"
    },
    {
     "name": "stdout",
     "output_type": "stream",
     "text": [
      "Extracting /Users/htetwaiyan/.pytorch/MNIST_data/MNIST/raw/train-labels-idx1-ubyte.gz to /Users/htetwaiyan/.pytorch/MNIST_data/MNIST/raw\n",
      "\n",
      "Downloading http://yann.lecun.com/exdb/mnist/t10k-images-idx3-ubyte.gz\n",
      "Downloading http://yann.lecun.com/exdb/mnist/t10k-images-idx3-ubyte.gz to /Users/htetwaiyan/.pytorch/MNIST_data/MNIST/raw/t10k-images-idx3-ubyte.gz\n"
     ]
    },
    {
     "data": {
      "application/vnd.jupyter.widget-view+json": {
       "model_id": "323955ff571d4ae3b950d2ec7ebab69d",
       "version_major": 2,
       "version_minor": 0
      },
      "text/plain": [
       "  0%|          | 0/1648877 [00:00<?, ?it/s]"
      ]
     },
     "metadata": {},
     "output_type": "display_data"
    },
    {
     "name": "stdout",
     "output_type": "stream",
     "text": [
      "Extracting /Users/htetwaiyan/.pytorch/MNIST_data/MNIST/raw/t10k-images-idx3-ubyte.gz to /Users/htetwaiyan/.pytorch/MNIST_data/MNIST/raw\n",
      "\n",
      "Downloading http://yann.lecun.com/exdb/mnist/t10k-labels-idx1-ubyte.gz\n",
      "Downloading http://yann.lecun.com/exdb/mnist/t10k-labels-idx1-ubyte.gz to /Users/htetwaiyan/.pytorch/MNIST_data/MNIST/raw/t10k-labels-idx1-ubyte.gz\n"
     ]
    },
    {
     "data": {
      "application/vnd.jupyter.widget-view+json": {
       "model_id": "f1c89fa1046441eaa9236f75dd708fad",
       "version_major": 2,
       "version_minor": 0
      },
      "text/plain": [
       "  0%|          | 0/4542 [00:00<?, ?it/s]"
      ]
     },
     "metadata": {},
     "output_type": "display_data"
    },
    {
     "name": "stdout",
     "output_type": "stream",
     "text": [
      "Extracting /Users/htetwaiyan/.pytorch/MNIST_data/MNIST/raw/t10k-labels-idx1-ubyte.gz to /Users/htetwaiyan/.pytorch/MNIST_data/MNIST/raw\n",
      "\n"
     ]
    }
   ],
   "source": [
    "### Run this cell\n",
    "\n",
    "from torchvision import datasets, transforms\n",
    "\n",
    "# Define a transform to normalize the data\n",
    "transform = transforms.Compose([transforms.ToTensor(),\n",
    "                              transforms.Normalize((0.5,), (0.5,)),\n",
    "                              ])\n",
    "\n",
    "# Download and load the training data\n",
    "trainset = datasets.MNIST('~/.pytorch/MNIST_data/', download=True, train=True, transform=transform)\n",
    "trainloader = torch.utils.data.DataLoader(trainset, batch_size=64, shuffle=True)"
   ]
  },
  {
   "cell_type": "markdown",
   "metadata": {},
   "source": [
    "We have the training data loaded into `trainloader` and we make that an iterator with `iter(trainloader)`. Later, we'll use this to loop through the dataset for training, like\n",
    "\n",
    "```python\n",
    "for image, label in trainloader:\n",
    "    ## do things with images and labels\n",
    "```\n",
    "\n",
    "You'll notice I created the `trainloader` with a batch size of 64, and `shuffle=True`. The batch size is the number of images we get in one iteration from the data loader and pass through our network, often called a *batch*. And `shuffle=True` tells it to shuffle the dataset every time we start going through the data loader again. But here I'm just grabbing the first batch so we can check out the data. We can see below that `images` is just a tensor with size `(64, 1, 28, 28)`. So, 64 images per batch, 1 color channel, and 28x28 images."
   ]
  },
  {
   "cell_type": "code",
   "execution_count": 8,
   "metadata": {
    "collapsed": true
   },
   "outputs": [
    {
     "name": "stdout",
     "output_type": "stream",
     "text": [
      "<class 'torch.Tensor'>\n",
      "torch.Size([64, 1, 28, 28])\n",
      "torch.Size([64])\n"
     ]
    }
   ],
   "source": [
    "dataiter = iter(trainloader)\n",
    "images, labels = next(dataiter)\n",
    "print(type(images))\n",
    "print(images.shape)\n",
    "print(labels.shape)"
   ]
  },
  {
   "cell_type": "markdown",
   "metadata": {},
   "source": [
    "This is what one of the images looks like. "
   ]
  },
  {
   "cell_type": "code",
   "execution_count": 9,
   "metadata": {
    "collapsed": true
   },
   "outputs": [
    {
     "data": {
      "image/png": "[encoded data removed]",
      "text/plain": [
       "<Figure size 432x288 with 1 Axes>"
      ]
     },
     "metadata": {
      "image/png": {
       "height": 248,
       "width": 251
      },
      "needs_background": "light"
     },
     "output_type": "display_data"
    }
   ],
   "source": [
    "plt.imshow(images[1].numpy().squeeze(), cmap='Greys_r');"
   ]
  },
  {
   "cell_type": "markdown",
   "metadata": {},
   "source": [
    "First, let's try to build a simple network for this dataset using weight matrices and matrix multiplications. Then, we'll see how to do it using PyTorch's `nn` module which provides a much more convenient and powerful method for defining network architectures.\n",
    "\n",
    "The networks you've seen so far are called *fully-connected* or *dense* networks. Each unit in one layer is connected to each unit in the next layer. In fully-connected networks, the input to each layer must be a one-dimensional vector (which can be stacked into a 2D tensor as a batch of multiple examples). However, our images are 28x28 2D tensors, so we need to convert them into 1D vectors. Thinking about sizes, we need to convert the batch of images with shape `(64, 1, 28, 28)` to a have a shape of `(64, 784)`, 784 is 28 times 28. This is typically called *flattening*, we flattened the 2D images into 1D vectors.\n",
    "\n",
    "Previously you built a network with one output unit. Here we need 10 output units, one for each digit. We want our network to predict the digit shown in an image, so what we'll do is calculate probabilities that the image is of any one digit or class. This ends up being a discrete probability distribution over the classes (digits) that tells us the most likely class for the image. That means we need 10 output units for the 10 classes (digits). We'll see how to convert the network output into a probability distribution next.\n",
    "\n",
    "> **Exercise:** Flatten the batch of images `images`. Then build a multi-layer network with 784 input units, 256 hidden units, and 10 output units using random tensors for the weights and biases. For now, use a sigmoid activation for the hidden layer. Leave the output layer without an activation, we'll add one that gives us a probability distribution next."
   ]
  },
  {
   "cell_type": "code",
   "execution_count": 29,
   "metadata": {
    "collapsed": true
   },
   "outputs": [
    {
     "data": {
      "text/plain": [
       "tensor([[5.9188e-08, 6.1882e-07, 1.9576e-06, 2.2992e-01, 1.0000e+00, 1.6199e-08,\n",
       "         9.9753e-01, 3.3504e-01, 6.1193e-07, 1.0124e-07],\n",
       "        [6.2375e-05, 3.8153e-04, 3.5524e-06, 9.9925e-01, 9.9965e-01, 2.1307e-09,\n",
       "         9.9997e-01, 9.9750e-01, 1.0685e-04, 1.1569e-05],\n",
       "        [9.3528e-04, 6.6110e-03, 3.0089e-05, 1.8547e-01, 1.0000e+00, 4.2917e-05,\n",
       "         1.0000e+00, 4.2193e-02, 3.3075e-12, 3.1124e-04],\n",
       "        [1.2346e-05, 2.5692e-04, 2.1980e-07, 9.9938e-01, 1.0000e+00, 2.9311e-07,\n",
       "         1.6923e-03, 9.8552e-01, 4.0593e-10, 1.8037e-07],\n",
       "        [1.3861e-06, 1.6299e-03, 1.5871e-05, 9.8392e-01, 1.0000e+00, 2.2817e-07,\n",
       "         8.4968e-01, 1.7774e-03, 2.9529e-09, 1.1406e-01],\n",
       "        [3.4156e-01, 5.8869e-03, 1.8655e-03, 9.9822e-01, 9.9144e-01, 1.9202e-09,\n",
       "         9.7885e-01, 9.9999e-01, 1.1858e-12, 1.3900e-06],\n",
       "        [1.1293e-07, 1.0445e-02, 1.8423e-08, 9.9845e-01, 1.0000e+00, 1.1472e-08,\n",
       "         3.8036e-02, 9.4034e-01, 7.1936e-09, 4.6177e-06],\n",
       "        [9.9598e-01, 6.8996e-05, 1.6862e-04, 9.9921e-01, 1.0000e+00, 7.1365e-07,\n",
       "         1.0000e+00, 9.9960e-01, 7.7544e-11, 9.8397e-04],\n",
       "        [1.7352e-04, 6.8890e-01, 1.9101e-09, 7.3015e-01, 1.0000e+00, 3.4942e-03,\n",
       "         8.7488e-01, 6.0474e-01, 1.9884e-11, 4.7140e-03],\n",
       "        [3.9778e-03, 1.8180e-01, 4.9793e-13, 9.9999e-01, 1.0000e+00, 2.7596e-04,\n",
       "         9.9972e-01, 3.1935e-01, 1.8142e-10, 3.3117e-05],\n",
       "        [2.7969e-09, 4.7481e-03, 1.8888e-06, 9.0973e-01, 9.9907e-01, 6.8834e-08,\n",
       "         9.6252e-01, 8.8953e-01, 4.2837e-11, 5.8380e-08],\n",
       "        [5.5478e-04, 2.5076e-02, 3.7859e-09, 1.9491e-01, 1.0000e+00, 1.9660e-05,\n",
       "         5.7384e-01, 9.9990e-01, 1.5843e-08, 3.5703e-04],\n",
       "        [4.0152e-06, 2.8461e-02, 5.5063e-06, 1.0000e+00, 9.9999e-01, 1.3046e-07,\n",
       "         9.9807e-01, 4.0652e-01, 7.2286e-06, 6.0861e-03],\n",
       "        [7.1241e-01, 9.2295e-02, 3.0620e-07, 9.9996e-01, 1.0000e+00, 4.8952e-03,\n",
       "         9.9930e-01, 9.8284e-01, 8.8958e-11, 1.7822e-04],\n",
       "        [1.2604e-04, 4.2072e-05, 4.8339e-03, 9.3921e-01, 9.9754e-01, 4.6295e-09,\n",
       "         9.7573e-01, 3.3678e-01, 2.1360e-10, 2.8084e-06],\n",
       "        [7.8566e-06, 1.1608e-06, 4.3954e-06, 1.0000e+00, 9.9999e-01, 9.3250e-08,\n",
       "         2.7869e-01, 9.5705e-01, 6.0878e-09, 1.7681e-07],\n",
       "        [2.8788e-05, 5.7177e-04, 4.9298e-08, 1.8963e-01, 9.9999e-01, 6.5713e-10,\n",
       "         5.1889e-02, 9.7103e-01, 1.3580e-09, 2.9561e-08],\n",
       "        [9.9528e-05, 7.4627e-05, 5.3827e-05, 6.8610e-01, 1.0000e+00, 2.8183e-08,\n",
       "         6.4846e-01, 9.9976e-01, 3.4415e-09, 4.5119e-06],\n",
       "        [6.8625e-05, 6.3374e-03, 1.0625e-01, 8.5954e-01, 1.0000e+00, 1.6258e-07,\n",
       "         1.5612e-01, 9.9997e-01, 3.4275e-11, 3.1370e-02],\n",
       "        [1.8182e-06, 3.2138e-03, 9.0071e-04, 3.4436e-02, 1.0000e+00, 6.4428e-04,\n",
       "         3.7499e-01, 9.7616e-01, 2.1078e-04, 4.3760e-01],\n",
       "        [2.4778e-05, 3.7916e-05, 8.5156e-04, 9.9946e-01, 1.0000e+00, 1.3103e-07,\n",
       "         9.9881e-01, 1.6526e-01, 2.6659e-06, 6.1647e-06],\n",
       "        [1.8509e-01, 4.6305e-06, 1.4068e-07, 9.9816e-01, 9.9996e-01, 1.1630e-08,\n",
       "         9.9967e-01, 9.9011e-01, 1.1865e-09, 8.0009e-06],\n",
       "        [2.6027e-06, 2.2135e-08, 5.0574e-05, 9.9949e-01, 1.0000e+00, 4.4833e-04,\n",
       "         9.9936e-01, 7.7787e-01, 2.2272e-13, 5.1816e-04],\n",
       "        [4.9574e-06, 7.9456e-09, 9.5774e-08, 9.9332e-01, 1.0000e+00, 1.1840e-06,\n",
       "         9.9894e-01, 9.9221e-01, 8.2114e-10, 2.1880e-05],\n",
       "        [3.1411e-06, 2.5383e-06, 3.2727e-09, 5.7955e-01, 9.9996e-01, 4.2126e-08,\n",
       "         4.8775e-02, 8.1154e-01, 2.4761e-08, 2.5216e-07],\n",
       "        [1.1096e-05, 6.4561e-09, 3.8468e-03, 9.9988e-01, 1.0000e+00, 2.1040e-07,\n",
       "         3.8918e-03, 2.1577e-02, 1.4155e-09, 3.9282e-07],\n",
       "        [6.8860e-05, 2.5085e-02, 3.6786e-09, 4.8846e-04, 1.0000e+00, 4.5415e-06,\n",
       "         9.9768e-01, 9.9194e-01, 1.2987e-09, 4.2094e-06],\n",
       "        [1.0820e-07, 1.0466e-07, 2.1532e-09, 3.1566e-01, 1.0000e+00, 2.2370e-06,\n",
       "         9.9999e-01, 9.9460e-01, 3.2672e-07, 7.1915e-05],\n",
       "        [2.7369e-06, 5.0214e-04, 2.3386e-06, 9.9737e-01, 9.9955e-01, 7.8433e-11,\n",
       "         3.0752e-02, 9.9971e-01, 1.4263e-04, 5.1599e-05],\n",
       "        [3.5521e-04, 2.2551e-01, 7.2700e-04, 9.9989e-01, 1.0000e+00, 1.2230e-09,\n",
       "         9.8866e-01, 9.9953e-01, 1.5572e-05, 5.3629e-03],\n",
       "        [2.8730e-04, 3.9083e-04, 3.2555e-05, 9.8794e-01, 1.0000e+00, 1.0560e-08,\n",
       "         1.0000e+00, 4.8408e-01, 1.5442e-10, 2.9517e-02],\n",
       "        [2.9300e-03, 1.5124e-01, 1.1037e-04, 9.9905e-01, 1.0000e+00, 2.6387e-02,\n",
       "         9.8601e-01, 9.9627e-01, 4.0508e-12, 6.4159e-02],\n",
       "        [1.2748e-03, 1.7357e-06, 2.4111e-08, 3.1550e-01, 1.0000e+00, 1.4205e-05,\n",
       "         4.3518e-01, 4.6450e-01, 2.8752e-09, 6.4061e-04],\n",
       "        [8.5435e-03, 1.3811e-02, 6.3845e-08, 1.0000e+00, 1.0000e+00, 1.6062e-08,\n",
       "         9.9964e-01, 5.9908e-01, 3.4696e-06, 2.2867e-04],\n",
       "        [1.6806e-08, 3.9982e-04, 1.9838e-10, 8.5400e-01, 1.0000e+00, 1.0035e-05,\n",
       "         5.9986e-01, 9.9912e-01, 4.3328e-09, 9.5261e-11],\n",
       "        [1.6549e-03, 1.4140e-02, 1.5602e-03, 9.9997e-01, 1.0000e+00, 1.4244e-03,\n",
       "         1.0000e+00, 1.4487e-02, 4.1321e-07, 3.0521e-04],\n",
       "        [4.1238e-04, 6.3815e-07, 9.4635e-08, 1.4173e-02, 1.0000e+00, 2.7360e-04,\n",
       "         9.9999e-01, 5.0872e-01, 9.3538e-08, 3.3869e-04],\n",
       "        [9.9837e-01, 8.5130e-03, 1.6065e-05, 9.8053e-01, 1.0000e+00, 9.7564e-02,\n",
       "         9.8110e-01, 9.9598e-01, 1.6648e-12, 5.0573e-03],\n",
       "        [2.7723e-07, 5.2439e-05, 2.9951e-03, 9.9616e-01, 1.0000e+00, 1.2051e-05,\n",
       "         9.9274e-01, 9.9814e-01, 2.6137e-08, 6.2025e-08],\n",
       "        [4.3793e-02, 6.4170e-03, 5.4108e-08, 2.4325e-02, 9.9996e-01, 8.1360e-04,\n",
       "         9.7021e-01, 9.8739e-01, 3.9143e-13, 1.4972e-06],\n",
       "        [2.1743e-03, 2.1203e-03, 9.6977e-12, 4.3979e-03, 9.6604e-01, 7.6325e-07,\n",
       "         1.5859e-01, 9.9993e-01, 1.2672e-07, 2.1602e-07],\n",
       "        [8.8900e-01, 2.0348e-02, 2.3392e-05, 9.9710e-01, 1.0000e+00, 2.8581e-03,\n",
       "         9.9989e-01, 9.9963e-01, 2.9047e-11, 1.5218e-05],\n",
       "        [3.9425e-08, 7.1335e-03, 1.9820e-07, 1.0000e+00, 1.0000e+00, 7.4919e-05,\n",
       "         9.9886e-01, 2.7773e-03, 1.9023e-07, 7.2342e-06],\n",
       "        [7.1289e-06, 3.7766e-02, 2.3534e-06, 9.2021e-01, 1.0000e+00, 1.5412e-03,\n",
       "         9.9997e-01, 9.9695e-01, 1.3465e-11, 2.7115e-07],\n",
       "        [2.5180e-05, 1.6567e-02, 1.0450e-03, 1.0000e+00, 9.9997e-01, 1.5902e-03,\n",
       "         1.0000e+00, 1.5459e-01, 1.1263e-03, 5.5949e-01],\n",
       "        [2.0903e-05, 2.0290e-04, 1.3343e-05, 1.0000e+00, 1.0000e+00, 9.5534e-08,\n",
       "         9.9579e-01, 8.0397e-01, 3.4894e-06, 5.4665e-06],\n",
       "        [1.7524e-07, 5.5110e-05, 2.6631e-08, 6.5349e-03, 1.0000e+00, 6.7080e-06,\n",
       "         1.0000e+00, 8.1229e-01, 1.1939e-13, 1.5534e-07],\n",
       "        [7.7903e-04, 9.5619e-10, 2.2374e-02, 9.9901e-01, 1.0000e+00, 1.3341e-05,\n",
       "         9.9627e-01, 9.9694e-01, 1.5830e-11, 8.7633e-06],\n",
       "        [3.0621e-01, 5.8608e-03, 6.1634e-10, 1.0000e+00, 1.0000e+00, 1.3130e-04,\n",
       "         9.9998e-01, 3.5810e-01, 9.0582e-11, 1.7151e-05],\n",
       "        [7.0813e-05, 5.5353e-06, 8.3370e-07, 5.8127e-01, 1.0000e+00, 9.2912e-07,\n",
       "         7.9535e-01, 1.0000e+00, 2.1163e-12, 2.9327e-09],\n",
       "        [1.3336e-04, 5.9979e-06, 1.0643e-02, 9.5360e-01, 1.0000e+00, 2.3355e-04,\n",
       "         9.0420e-01, 5.4994e-01, 1.1461e-12, 6.1152e-03],\n",
       "        [2.0653e-03, 8.3754e-08, 1.7478e-05, 8.9389e-01, 1.0000e+00, 3.9608e-05,\n",
       "         8.8193e-01, 9.9528e-01, 6.8850e-09, 2.2502e-05],\n",
       "        [9.1035e-04, 6.3868e-07, 4.5229e-02, 9.4324e-01, 9.9979e-01, 1.2392e-05,\n",
       "         8.8432e-01, 6.5615e-01, 1.0812e-10, 4.2687e-06],\n",
       "        [5.0820e-04, 1.1108e-08, 1.8582e-05, 5.7140e-01, 1.0000e+00, 9.2101e-07,\n",
       "         9.9925e-01, 9.4823e-01, 2.5476e-02, 4.5874e-02],\n",
       "        [7.3098e-05, 1.8409e-03, 2.0165e-03, 9.9986e-01, 9.9999e-01, 4.9205e-03,\n",
       "         9.9988e-01, 9.3134e-01, 4.1606e-12, 5.6238e-05],\n",
       "        [9.0858e-07, 1.7843e-03, 1.7037e-09, 1.0000e+00, 1.0000e+00, 3.7879e-04,\n",
       "         2.8334e-01, 3.6515e-02, 1.2654e-08, 4.1249e-04],\n",
       "        [3.1210e-01, 2.5458e-05, 2.8607e-06, 2.0243e-01, 1.0000e+00, 1.6390e-06,\n",
       "         1.0000e+00, 9.9863e-01, 1.8439e-09, 1.6309e-04],\n",
       "        [1.6002e-02, 3.6303e-01, 1.3716e-10, 3.1911e-03, 1.0000e+00, 4.5490e-03,\n",
       "         9.7385e-01, 9.9996e-01, 2.6364e-10, 8.7671e-04],\n",
       "        [1.3817e-07, 1.3770e-06, 1.6288e-03, 9.5486e-01, 1.0000e+00, 1.6224e-04,\n",
       "         8.7189e-01, 9.9833e-01, 1.1447e-11, 1.4169e-03],\n",
       "        [2.2620e-02, 2.3056e-05, 3.3127e-09, 1.7689e-02, 1.0000e+00, 1.2910e-05,\n",
       "         9.9983e-01, 9.4972e-01, 1.1501e-09, 3.3026e-02],\n",
       "        [3.9462e-05, 3.9380e-05, 5.1633e-11, 8.7809e-01, 1.0000e+00, 1.8612e-01,\n",
       "         9.9530e-01, 9.6395e-01, 2.7320e-11, 3.8798e-04],\n",
       "        [1.6247e-05, 2.4474e-04, 9.2027e-01, 7.4721e-01, 9.9997e-01, 4.5770e-09,\n",
       "         9.5003e-01, 9.9918e-01, 6.5146e-09, 1.6755e-05],\n",
       "        [2.5265e-04, 5.0619e-08, 8.3260e-06, 9.6935e-01, 1.0000e+00, 1.4397e-05,\n",
       "         9.9974e-01, 9.4814e-01, 2.4916e-09, 4.2016e-01],\n",
       "        [6.4374e-04, 2.7445e-04, 1.5576e-06, 9.9997e-01, 9.9929e-01, 1.1375e-09,\n",
       "         9.9972e-01, 9.9987e-01, 4.2403e-09, 7.2730e-08]])"
      ]
     },
     "execution_count": 29,
     "metadata": {},
     "output_type": "execute_result"
    }
   ],
   "source": [
    "# Your solution\n",
    "def activation(x):\n",
    "    return 1/(1+torch.exp(-x))\n",
    "\n",
    "# out = # output of your network, should have shape (64,10)\n",
    "inputs = images.view(images.shape[0], -1)\n",
    "\n",
    "weights_input_hidden = torch.randn(784, 256)\n",
    "bias_input_hidden = torch.randn(256)\n",
    "\n",
    "weights_hidden_output = torch.randn(256, 10)\n",
    "bias_hidden_output = torch.randn(10)\n",
    "\n",
    "hidden_output = activation(torch.mm(inputs, weights_input_hidden) + bias_input_hidden)\n",
    "output = activation(torch.mm(hidden_output,weights_hidden_output) + bias_hidden_output)\n",
    "\n",
    "output"
   ]
  },
  {
   "cell_type": "markdown",
   "metadata": {},
   "source": [
    "Now we have 10 outputs for our network. We want to pass in an image to our network and get out a probability distribution over the classes that tells us the likely class(es) the image belongs to. Something that looks like this:\n",
    "<img src='assets/image_distribution.png' width=500px>\n",
    "\n",
    "Here we see that the probability for each class is roughly the same. This is representing an untrained network, it hasn't seen any data yet so it just returns a uniform distribution with equal probabilities for each class.\n",
    "\n",
    "To calculate this probability distribution, we often use the [**softmax** function](https://en.wikipedia.org/wiki/Softmax_function). Mathematically this looks like\n",
    "\n",
    "$$\n",
    "\\Large \\sigma(x_i) = \\cfrac{e^{x_i}}{\\sum_k^K{e^{x_k}}}\n",
    "$$\n",
    "\n",
    "What this does is squish each input $x_i$ between 0 and 1 and normalizes the values to give you a proper probability distribution where the probabilites sum up to one.\n",
    "\n",
    "> **Exercise:** Implement a function `softmax` that performs the softmax calculation and returns probability distributions for each example in the batch. Note that you'll need to pay attention to the shapes when doing this. If you have a tensor `a` with shape `(64, 10)` and a tensor `b` with shape `(64,)`, doing `a/b` will give you an error because PyTorch will try to do the division across the columns (called broadcasting) but you'll get a size mismatch. The way to think about this is for each of the 64 examples, you only want to divide by one value, the sum in the denominator. So you need `b` to have a shape of `(64, 1)`. This way PyTorch will divide the 10 values in each row of `a` by the one value in each row of `b`. Pay attention to how you take the sum as well. You'll need to define the `dim` keyword in `torch.sum`. Setting `dim=0` takes the sum across the rows while `dim=1` takes the sum across the columns."
   ]
  },
  {
   "cell_type": "code",
   "execution_count": 34,
   "metadata": {
    "collapsed": true
   },
   "outputs": [
    {
     "name": "stdout",
     "output_type": "stream",
     "text": [
      "torch.Size([64, 10])\n",
      "tensor([1.0000, 1.0000, 1.0000, 1.0000, 1.0000, 1.0000, 1.0000, 1.0000, 1.0000,\n",
      "        1.0000, 1.0000, 1.0000, 1.0000, 1.0000, 1.0000, 1.0000, 1.0000, 1.0000,\n",
      "        1.0000, 1.0000, 1.0000, 1.0000, 1.0000, 1.0000, 1.0000, 1.0000, 1.0000,\n",
      "        1.0000, 1.0000, 1.0000, 1.0000, 1.0000, 1.0000, 1.0000, 1.0000, 1.0000,\n",
      "        1.0000, 1.0000, 1.0000, 1.0000, 1.0000, 1.0000, 1.0000, 1.0000, 1.0000,\n",
      "        1.0000, 1.0000, 1.0000, 1.0000, 1.0000, 1.0000, 1.0000, 1.0000, 1.0000,\n",
      "        1.0000, 1.0000, 1.0000, 1.0000, 1.0000, 1.0000, 1.0000, 1.0000, 1.0000,\n",
      "        1.0000])\n"
     ]
    }
   ],
   "source": [
    "def softmax(x):\n",
    "    return torch.exp(x)/torch.sum(torch.exp(x), dim=1).view(-1, 1)\n",
    "\n",
    "# Here, out should be the output of the network in the previous excercise with shape (64,10)\n",
    "probabilities = softmax(output)\n",
    "\n",
    "# Does it have the right shape? Should be (64, 10)\n",
    "print(probabilities.shape)\n",
    "# Does it sum to 1?\n",
    "print(probabilities.sum(dim=1))"
   ]
  },
  {
   "cell_type": "markdown",
   "metadata": {},
   "source": [
    "## Building networks with PyTorch\n",
    "\n",
    "PyTorch provides a module `nn` that makes building networks much simpler. Here I'll show you how to build the same one as above with 784 inputs, 256 hidden units, 10 output units and a softmax output."
   ]
  },
  {
   "cell_type": "code",
   "execution_count": 37,
   "metadata": {
    "collapsed": true
   },
   "outputs": [],
   "source": [
    "from torch import nn"
   ]
  },
  {
   "cell_type": "code",
   "execution_count": 38,
   "metadata": {
    "collapsed": true
   },
   "outputs": [],
   "source": [
    "class Network(nn.Module):\n",
    "    def __init__(self):\n",
    "        super().__init__()\n",
    "        \n",
    "        # Inputs to hidden layer linear transformation\n",
    "        self.hidden = nn.Linear(784, 256)\n",
    "        # Output layer, 10 units - one for each digit\n",
    "        self.output = nn.Linear(256, 10)\n",
    "        \n",
    "        # Define sigmoid activation and softmax output \n",
    "        self.sigmoid = nn.Sigmoid()\n",
    "        self.softmax = nn.Softmax(dim=1)\n",
    "        \n",
    "    def forward(self, x):\n",
    "        # Pass the input tensor through each of our operations\n",
    "        x = self.hidden(x)\n",
    "        x = self.sigmoid(x)\n",
    "        x = self.output(x)\n",
    "        x = self.softmax(x)\n",
    "        \n",
    "        return x"
   ]
  },
  {
   "cell_type": "markdown",
   "metadata": {},
   "source": [
    "Let's go through this bit by bit.\n",
    "\n",
    "```python\n",
    "class Network(nn.Module):\n",
    "```\n",
    "\n",
    "Here we're inheriting from `nn.Module`. Combined with `super().__init__()` this creates a class that tracks the architecture and provides a lot of useful methods and attributes. It is mandatory to inherit from `nn.Module` when you're creating a class for your network. The name of the class itself can be anything.\n",
    "\n",
    "```python\n",
    "self.hidden = nn.Linear(784, 256)\n",
    "```\n",
    "\n",
    "This line creates a module for a linear transformation, $x\\mathbf{W} + b$, with 784 inputs and 256 outputs and assigns it to `self.hidden`. The module automatically creates the weight and bias tensors which we'll use in the `forward` method. You can access the weight and bias tensors once the network (`net`) is created with `net.hidden.weight` and `net.hidden.bias`.\n",
    "\n",
    "```python\n",
    "self.output = nn.Linear(256, 10)\n",
    "```\n",
    "\n",
    "Similarly, this creates another linear transformation with 256 inputs and 10 outputs.\n",
    "\n",
    "```python\n",
    "self.sigmoid = nn.Sigmoid()\n",
    "self.softmax = nn.Softmax(dim=1)\n",
    "```\n",
    "\n",
    "Here I defined operations for the sigmoid activation and softmax output. Setting `dim=1` in `nn.Softmax(dim=1)` calculates softmax across the columns.\n",
    "\n",
    "```python\n",
    "def forward(self, x):\n",
    "```\n",
    "\n",
    "PyTorch networks created with `nn.Module` must have a `forward` method defined. It takes in a tensor `x` and passes it through the operations you defined in the `__init__` method.\n",
    "\n",
    "```python\n",
    "x = self.hidden(x)\n",
    "x = self.sigmoid(x)\n",
    "x = self.output(x)\n",
    "x = self.softmax(x)\n",
    "```\n",
    "\n",
    "Here the input tensor `x` is passed through each operation and reassigned to `x`. We can see that the input tensor goes through the hidden layer, then a sigmoid function, then the output layer, and finally the softmax function. It doesn't matter what you name the variables here, as long as the inputs and outputs of the operations match the network architecture you want to build. The order in which you define things in the `__init__` method doesn't matter, but you'll need to sequence the operations correctly in the `forward` method.\n",
    "\n",
    "Now we can create a `Network` object."
   ]
  },
  {
   "cell_type": "code",
   "execution_count": 39,
   "metadata": {
    "collapsed": true
   },
   "outputs": [
    {
     "data": {
      "text/plain": [
       "Network(\n",
       "  (hidden): Linear(in_features=784, out_features=256, bias=True)\n",
       "  (output): Linear(in_features=256, out_features=10, bias=True)\n",
       "  (sigmoid): Sigmoid()\n",
       "  (softmax): Softmax(dim=1)\n",
       ")"
      ]
     },
     "execution_count": 39,
     "metadata": {},
     "output_type": "execute_result"
    }
   ],
   "source": [
    "# Create the network and look at it's text representation\n",
    "model = Network()\n",
    "model"
   ]
  },
  {
   "cell_type": "markdown",
   "metadata": {},
   "source": [
    "You can define the network somewhat more concisely and clearly using the `torch.nn.functional` module. This is the most common way you'll see networks defined as many operations are simple element-wise functions. We normally import this module as `F`, `import torch.nn.functional as F`."
   ]
  },
  {
   "cell_type": "code",
   "execution_count": 40,
   "metadata": {
    "collapsed": true
   },
   "outputs": [],
   "source": [
    "import torch.nn.functional as F\n",
    "\n",
    "class Network(nn.Module):\n",
    "    def __init__(self):\n",
    "        super().__init__()\n",
    "        # Inputs to hidden layer linear transformation\n",
    "        self.hidden = nn.Linear(784, 256)\n",
    "        # Output layer, 10 units - one for each digit\n",
    "        self.output = nn.Linear(256, 10)\n",
    "        \n",
    "    def forward(self, x):\n",
    "        # Hidden layer with sigmoid activation\n",
    "        x = F.sigmoid(self.hidden(x))\n",
    "        # Output layer with softmax activation\n",
    "        x = F.softmax(self.output(x), dim=1)\n",
    "        \n",
    "        return x"
   ]
  },
  {
   "cell_type": "markdown",
   "metadata": {},
   "source": [
    "### Activation functions\n",
    "\n",
    "So far we've only been looking at the sigmoid activation function, but in general any function can be used as an activation function. The only requirement is that for a network to approximate a non-linear function, the activation functions must be non-linear. Here are a few more examples of common activation functions: Tanh (hyperbolic tangent), and ReLU (rectified linear unit).\n",
    "\n",
    "<img src=\"assets/activation.png\" width=700px>\n",
    "\n",
    "In practice, the ReLU function is used almost exclusively as the activation function for hidden layers."
   ]
  },
  {
   "cell_type": "markdown",
   "metadata": {},
   "source": [
    "### Your Turn to Build a Network\n",
    "\n",
    "<img src=\"assets/mlp_mnist.png\" width=600px>\n",
    "\n",
    "> **Exercise:** Create a network with 784 input units, a hidden layer with 128 units and a ReLU activation, then a hidden layer with 64 units and a ReLU activation, and finally an output layer with a softmax activation as shown above. You can use a ReLU activation with the `nn.ReLU` module or `F.relu` function.\n",
    "\n",
    "It's good practice to name your layers by their type of network, for instance 'fc' to represent a fully-connected layer. As you code your solution, use `fc1`, `fc2`, and `fc3` as your layer names."
   ]
  },
  {
   "cell_type": "code",
   "execution_count": 51,
   "metadata": {
    "collapsed": true,
    "scrolled": true
   },
   "outputs": [
    {
     "data": {
      "text/plain": [
       "Network(\n",
       "  (fc1): Linear(in_features=784, out_features=128, bias=True)\n",
       "  (fc2): Linear(in_features=128, out_features=64, bias=True)\n",
       "  (fc3): Linear(in_features=64, out_features=10, bias=True)\n",
       "  (relu): ReLU()\n",
       "  (softmax): Softmax(dim=1)\n",
       ")"
      ]
     },
     "execution_count": 51,
     "metadata": {},
     "output_type": "execute_result"
    }
   ],
   "source": [
    "## Your solution here\n",
    "class Network(nn.Module):\n",
    "    def __init__(self):\n",
    "        super().__init__()\n",
    "        \n",
    "        \n",
    "        self.fc1 = nn.Linear(784, 128)\n",
    "        self.fc2 = nn.Linear(128, 64)\n",
    "        self.fc3 = nn.Linear(64, 10)\n",
    "        \n",
    "        # Define sigmoid activation and softmax output \n",
    "        self.relu = nn.ReLU()\n",
    "        self.softmax = nn.Softmax(dim=1)\n",
    "        \n",
    "    def forward(self, x):\n",
    "        # Pass the input tensor through each of our operations\n",
    "        x = self.fc1(x)\n",
    "        x = self.relu(x)\n",
    "        x = self.fc2(x)\n",
    "        x = self.relu(x)\n",
    "        x = self.fc3(x)\n",
    "        x = self.softmax(x)\n",
    "        \n",
    "        return x\n",
    "model = Network()\n",
    "model"
   ]
  },
  {
   "cell_type": "markdown",
   "metadata": {},
   "source": [
    "### Initializing weights and biases\n",
    "\n",
    "The weights and such are automatically initialized for you, but it's possible to customize how they are initialized. The weights and biases are tensors attached to the layer you defined, you can get them with `model.fc1.weight` for instance."
   ]
  },
  {
   "cell_type": "code",
   "execution_count": 42,
   "metadata": {
    "collapsed": true
   },
   "outputs": [
    {
     "name": "stdout",
     "output_type": "stream",
     "text": [
      "Parameter containing:\n",
      "tensor([[ 0.0227,  0.0338, -0.0324,  ..., -0.0144,  0.0308,  0.0244],\n",
      "        [-0.0276,  0.0146,  0.0142,  ..., -0.0207,  0.0007,  0.0046],\n",
      "        [ 0.0256, -0.0107, -0.0295,  ..., -0.0355, -0.0109, -0.0127],\n",
      "        ...,\n",
      "        [ 0.0201, -0.0235, -0.0192,  ..., -0.0247, -0.0082,  0.0177],\n",
      "        [ 0.0240,  0.0075, -0.0060,  ..., -0.0157,  0.0240,  0.0071],\n",
      "        [ 0.0343, -0.0336, -0.0152,  ...,  0.0024,  0.0005, -0.0285]],\n",
      "       requires_grad=True)\n",
      "Parameter containing:\n",
      "tensor([ 0.0272,  0.0233,  0.0028, -0.0032,  0.0130, -0.0288, -0.0293, -0.0327,\n",
      "         0.0187, -0.0180, -0.0058,  0.0034, -0.0095,  0.0346, -0.0294,  0.0017,\n",
      "        -0.0281,  0.0112, -0.0145, -0.0272,  0.0185,  0.0055, -0.0220,  0.0121,\n",
      "         0.0071, -0.0131, -0.0227, -0.0344,  0.0115, -0.0276, -0.0295,  0.0133,\n",
      "         0.0258,  0.0017, -0.0201, -0.0033,  0.0285, -0.0047, -0.0010,  0.0112,\n",
      "         0.0231, -0.0263,  0.0011, -0.0201,  0.0194, -0.0301, -0.0356, -0.0200,\n",
      "         0.0034,  0.0013,  0.0302, -0.0212,  0.0110,  0.0327,  0.0184, -0.0314,\n",
      "        -0.0207, -0.0242,  0.0126,  0.0167,  0.0043, -0.0275, -0.0045,  0.0232,\n",
      "         0.0241, -0.0173,  0.0084,  0.0287, -0.0051,  0.0186,  0.0348, -0.0273,\n",
      "         0.0073, -0.0091,  0.0268, -0.0009, -0.0067,  0.0203, -0.0330,  0.0317,\n",
      "         0.0095,  0.0357,  0.0327, -0.0012,  0.0338,  0.0141,  0.0277,  0.0004,\n",
      "        -0.0339, -0.0215,  0.0295,  0.0313,  0.0216,  0.0076,  0.0068, -0.0213,\n",
      "         0.0349, -0.0034, -0.0286, -0.0315,  0.0002, -0.0267, -0.0268, -0.0051,\n",
      "        -0.0072,  0.0160,  0.0207, -0.0071, -0.0179,  0.0320, -0.0038,  0.0209,\n",
      "         0.0032,  0.0308,  0.0326,  0.0309,  0.0100,  0.0331,  0.0013, -0.0029,\n",
      "        -0.0069,  0.0332,  0.0046, -0.0121, -0.0241,  0.0052,  0.0022, -0.0124],\n",
      "       requires_grad=True)\n"
     ]
    }
   ],
   "source": [
    "\n",
    "print(model.fc1.weight)\n",
    "print(model.fc1.bias)"
   ]
  },
  {
   "cell_type": "markdown",
   "metadata": {},
   "source": [
    "For custom initialization, we want to modify these tensors in place. These are actually autograd *Variables*, so we need to get back the actual tensors with `model.fc1.weight.data`. Once we have the tensors, we can fill them with zeros (for biases) or random normal values."
   ]
  },
  {
   "cell_type": "code",
   "execution_count": 43,
   "metadata": {
    "collapsed": true
   },
   "outputs": [
    {
     "data": {
      "text/plain": [
       "tensor([0., 0., 0., 0., 0., 0., 0., 0., 0., 0., 0., 0., 0., 0., 0., 0., 0., 0., 0., 0., 0., 0., 0., 0.,\n",
       "        0., 0., 0., 0., 0., 0., 0., 0., 0., 0., 0., 0., 0., 0., 0., 0., 0., 0., 0., 0., 0., 0., 0., 0.,\n",
       "        0., 0., 0., 0., 0., 0., 0., 0., 0., 0., 0., 0., 0., 0., 0., 0., 0., 0., 0., 0., 0., 0., 0., 0.,\n",
       "        0., 0., 0., 0., 0., 0., 0., 0., 0., 0., 0., 0., 0., 0., 0., 0., 0., 0., 0., 0., 0., 0., 0., 0.,\n",
       "        0., 0., 0., 0., 0., 0., 0., 0., 0., 0., 0., 0., 0., 0., 0., 0., 0., 0., 0., 0., 0., 0., 0., 0.,\n",
       "        0., 0., 0., 0., 0., 0., 0., 0.])"
      ]
     },
     "execution_count": 43,
     "metadata": {},
     "output_type": "execute_result"
    }
   ],
   "source": [
    "# Set biases to all zeros\n",
    "model.fc1.bias.data.fill_(0)"
   ]
  },
  {
   "cell_type": "code",
   "execution_count": 44,
   "metadata": {
    "collapsed": true
   },
   "outputs": [
    {
     "data": {
      "text/plain": [
       "tensor([[ 0.0087,  0.0018, -0.0039,  ..., -0.0118,  0.0041,  0.0049],\n",
       "        [-0.0021, -0.0114, -0.0050,  ..., -0.0005, -0.0001, -0.0195],\n",
       "        [-0.0030, -0.0027,  0.0050,  ...,  0.0058,  0.0059,  0.0052],\n",
       "        ...,\n",
       "        [-0.0011,  0.0022,  0.0132,  ...,  0.0119, -0.0148,  0.0041],\n",
       "        [-0.0050, -0.0082,  0.0032,  ..., -0.0025,  0.0008, -0.0105],\n",
       "        [ 0.0034, -0.0069,  0.0124,  ...,  0.0067,  0.0077,  0.0027]])"
      ]
     },
     "execution_count": 44,
     "metadata": {},
     "output_type": "execute_result"
    }
   ],
   "source": [
    "# sample from random normal with standard dev = 0.01\n",
    "model.fc1.weight.data.normal_(std=0.01)"
   ]
  },
  {
   "cell_type": "markdown",
   "metadata": {},
   "source": [
    "### Forward pass\n",
    "\n",
    "Now that we have a network, let's see what happens when we pass in an image."
   ]
  },
  {
   "cell_type": "code",
   "execution_count": 46,
   "metadata": {
    "collapsed": true
   },
   "outputs": [
    {
     "data": {
      "image/png": "[encoded data removed]",
      "text/plain": [
       "<Figure size 432x648 with 2 Axes>"
      ]
     },
     "metadata": {
      "image/png": {
       "height": 235,
       "width": 424
      },
      "needs_background": "light"
     },
     "output_type": "display_data"
    }
   ],
   "source": [
    "# Grab some data \n",
    "dataiter = iter(trainloader)\n",
    "images, labels = next(dataiter)\n",
    "\n",
    "# Resize images into a 1D vector, new shape is (batch size, color channels, image pixels) \n",
    "images.resize_(64, 1, 784)\n",
    "# or images.resize_(images.shape[0], 1, 784) to automatically get batch size\n",
    "\n",
    "# Forward pass through the network\n",
    "img_idx = 0\n",
    "ps = model.forward(images[img_idx,:])\n",
    "\n",
    "img = images[img_idx]\n",
    "helper.view_classify(img.view(1, 28, 28), ps)"
   ]
  },
  {
   "cell_type": "markdown",
   "metadata": {},
   "source": [
    "As you can see above, our network has basically no idea what this digit is. It's because we haven't trained it yet, all the weights are random!\n",
    "\n",
    "### Using `nn.Sequential`\n",
    "\n",
    "PyTorch provides a convenient way to build networks like this where a tensor is passed sequentially through operations, `nn.Sequential` ([documentation](https://pytorch.org/docs/master/nn.html#torch.nn.Sequential)). Using this to build the equivalent network:"
   ]
  },
  {
   "cell_type": "code",
   "execution_count": 47,
   "metadata": {
    "collapsed": true
   },
   "outputs": [
    {
     "name": "stdout",
     "output_type": "stream",
     "text": [
      "Sequential(\n",
      "  (0): Linear(in_features=784, out_features=128, bias=True)\n",
      "  (1): ReLU()\n",
      "  (2): Linear(in_features=128, out_features=64, bias=True)\n",
      "  (3): ReLU()\n",
      "  (4): Linear(in_features=64, out_features=10, bias=True)\n",
      "  (5): Softmax(dim=1)\n",
      ")\n"
     ]
    },
    {
     "data": {
      "image/png": "[encoded data removed]",
      "text/plain": [
       "<Figure size 432x648 with 2 Axes>"
      ]
     },
     "metadata": {
      "image/png": {
       "height": 235,
       "width": 424
      },
      "needs_background": "light"
     },
     "output_type": "display_data"
    }
   ],
   "source": [
    "# Hyperparameters for our network\n",
    "input_size = 784\n",
    "hidden_sizes = [128, 64]\n",
    "output_size = 10\n",
    "\n",
    "# Build a feed-forward network\n",
    "model = nn.Sequential(nn.Linear(input_size, hidden_sizes[0]),\n",
    "                      nn.ReLU(),\n",
    "                      nn.Linear(hidden_sizes[0], hidden_sizes[1]),\n",
    "                      nn.ReLU(),\n",
    "                      nn.Linear(hidden_sizes[1], output_size),\n",
    "                      nn.Softmax(dim=1))\n",
    "print(model)\n",
    "\n",
    "# Forward pass through the network and display output\n",
    "images, labels = next(iter(trainloader))\n",
    "images.resize_(images.shape[0], 1, 784)\n",
    "ps = model.forward(images[0,:])\n",
    "helper.view_classify(images[0].view(1, 28, 28), ps)"
   ]
  },
  {
   "cell_type": "markdown",
   "metadata": {},
   "source": [
    "Here our model is the same as before: 784 input units, a hidden layer with 128 units, ReLU activation, 64 unit hidden layer, another ReLU, then the output layer with 10 units, and the softmax output.\n",
    "\n",
    "The operations are available by passing in the appropriate index. For example, if you want to get first Linear operation and look at the weights, you'd use `model[0]`."
   ]
  },
  {
   "cell_type": "code",
   "execution_count": 48,
   "metadata": {
    "collapsed": true
   },
   "outputs": [
    {
     "name": "stdout",
     "output_type": "stream",
     "text": [
      "Linear(in_features=784, out_features=128, bias=True)\n"
     ]
    },
    {
     "data": {
      "text/plain": [
       "Parameter containing:\n",
       "tensor([[ 0.0208,  0.0224, -0.0128,  ...,  0.0106,  0.0293, -0.0248],\n",
       "        [-0.0046, -0.0074,  0.0173,  ..., -0.0151,  0.0192,  0.0018],\n",
       "        [ 0.0226, -0.0042,  0.0356,  ..., -0.0296,  0.0212,  0.0242],\n",
       "        ...,\n",
       "        [-0.0281, -0.0288,  0.0003,  ...,  0.0231, -0.0337, -0.0033],\n",
       "        [-0.0333, -0.0007, -0.0334,  ...,  0.0241, -0.0247, -0.0352],\n",
       "        [-0.0248, -0.0117, -0.0223,  ...,  0.0357,  0.0095,  0.0126]],\n",
       "       requires_grad=True)"
      ]
     },
     "execution_count": 48,
     "metadata": {},
     "output_type": "execute_result"
    }
   ],
   "source": [
    "print(model[0])\n",
    "model[0].weight"
   ]
  },
  {
   "cell_type": "markdown",
   "metadata": {},
   "source": [
    "You can also pass in an `OrderedDict` to name the individual layers and operations, instead of using incremental integers. Note that dictionary keys must be unique, so _each operation must have a different name_."
   ]
  },
  {
   "cell_type": "code",
   "execution_count": 49,
   "metadata": {
    "collapsed": true
   },
   "outputs": [
    {
     "data": {
      "text/plain": [
       "Sequential(\n",
       "  (fc1): Linear(in_features=784, out_features=128, bias=True)\n",
       "  (relu1): ReLU()\n",
       "  (fc2): Linear(in_features=128, out_features=64, bias=True)\n",
       "  (relu2): ReLU()\n",
       "  (output): Linear(in_features=64, out_features=10, bias=True)\n",
       "  (softmax): Softmax(dim=1)\n",
       ")"
      ]
     },
     "execution_count": 49,
     "metadata": {},
     "output_type": "execute_result"
    }
   ],
   "source": [
    "from collections import OrderedDict\n",
    "model = nn.Sequential(OrderedDict([\n",
    "                      ('fc1', nn.Linear(input_size, hidden_sizes[0])),\n",
    "                      ('relu1', nn.ReLU()),\n",
    "                      ('fc2', nn.Linear(hidden_sizes[0], hidden_sizes[1])),\n",
    "                      ('relu2', nn.ReLU()),\n",
    "                      ('output', nn.Linear(hidden_sizes[1], output_size)),\n",
    "                      ('softmax', nn.Softmax(dim=1))]))\n",
    "model"
   ]
  },
  {
   "cell_type": "markdown",
   "metadata": {},
   "source": [
    "Now you can access layers either by integer or the name"
   ]
  },
  {
   "cell_type": "code",
   "execution_count": 50,
   "metadata": {
    "collapsed": true
   },
   "outputs": [
    {
     "name": "stdout",
     "output_type": "stream",
     "text": [
      "Linear(in_features=784, out_features=128, bias=True)\n",
      "Linear(in_features=784, out_features=128, bias=True)\n"
     ]
    }
   ],
   "source": [
    "print(model[0])\n",
    "print(model.fc1)"
   ]
  },
  {
   "cell_type": "markdown",
   "metadata": {},
   "source": [
    "In the next notebook, we'll see how we can train a neural network to accuractly predict the numbers appearing in the MNIST images."
   ]
  }
 ],
 "metadata": {
  "kernelspec": {
   "display_name": "Python 3.9.12 ('base')",
   "language": "python",
   "name": "python3"
  },
  "language_info": {
   "codemirror_mode": {
    "name": "ipython",
    "version": 3
   },
   "file_extension": ".py",
   "mimetype": "text/x-python",
   "name": "python",
   "nbconvert_exporter": "python",
   "pygments_lexer": "ipython3",
   "version": "3.9.12"
  },
  "vscode": {
   "interpreter": {
    "hash": "a564a5affe2b2749e40f956737a347ce396babb3f3d788f8f5f9c148ddd9671f"
   }
  }
 },
 "nbformat": 4,
 "nbformat_minor": 2
}
